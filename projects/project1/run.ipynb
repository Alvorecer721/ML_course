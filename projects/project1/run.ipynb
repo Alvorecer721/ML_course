{
 "cells": [
  {
   "cell_type": "code",
   "execution_count": 2,
   "id": "initial_id",
   "metadata": {
    "collapsed": true,
    "ExecuteTime": {
     "end_time": "2023-10-13T11:43:39.309094Z",
     "start_time": "2023-10-13T11:43:39.305047Z"
    }
   },
   "outputs": [],
   "source": [
    "import pandas as pd"
   ]
  },
  {
   "cell_type": "code",
   "execution_count": 3,
   "outputs": [],
   "source": [
    "df_x_train = pd.read_csv('data/dataset/x_train.csv')\n",
    "df_y_train = pd.read_csv('data/dataset/y_train.csv')"
   ],
   "metadata": {
    "collapsed": false,
    "ExecuteTime": {
     "end_time": "2023-10-13T11:44:03.182410Z",
     "start_time": "2023-10-13T11:43:56.401498Z"
    }
   },
   "id": "cffdb114ee42f2d4"
  },
  {
   "cell_type": "code",
   "execution_count": 4,
   "outputs": [
    {
     "data": {
      "text/plain": "['_STATE',\n 'FMONTH',\n 'IDATE',\n 'IMONTH',\n 'IDAY',\n 'IYEAR',\n 'DISPCODE',\n 'SEQNO',\n '_PSU',\n 'CTELENUM',\n 'PVTRESD1',\n 'COLGHOUS',\n 'STATERES',\n 'CELLFON3',\n 'LADULT',\n 'NUMADULT',\n 'NUMMEN',\n 'NUMWOMEN',\n 'CTELNUM1',\n 'CELLFON2',\n 'CADULT',\n 'PVTRESD2',\n 'CCLGHOUS',\n 'CSTATE',\n 'LANDLINE',\n 'HHADULT',\n 'GENHLTH',\n 'PHYSHLTH',\n 'MENTHLTH',\n 'POORHLTH',\n 'HLTHPLN1',\n 'PERSDOC2',\n 'MEDCOST',\n 'CHECKUP1',\n 'BPHIGH4',\n 'BPMEDS',\n 'BLOODCHO',\n 'CHOLCHK',\n 'TOLDHI2',\n 'CVDSTRK3',\n 'ASTHMA3',\n 'ASTHNOW',\n 'CHCSCNCR',\n 'CHCOCNCR',\n 'CHCCOPD1',\n 'HAVARTH3',\n 'ADDEPEV2',\n 'CHCKIDNY',\n 'DIABETE3',\n 'DIABAGE2',\n 'SEX',\n 'MARITAL',\n 'EDUCA',\n 'RENTHOM1',\n 'NUMHHOL2',\n 'NUMPHON2',\n 'CPDEMO1',\n 'VETERAN3',\n 'EMPLOY1',\n 'CHILDREN',\n 'INCOME2',\n 'INTERNET',\n 'WEIGHT2',\n 'HEIGHT3',\n 'PREGNANT',\n 'QLACTLM2',\n 'USEEQUIP',\n 'BLIND',\n 'DECIDE',\n 'DIFFWALK',\n 'DIFFDRES',\n 'DIFFALON',\n 'SMOKE100',\n 'SMOKDAY2',\n 'STOPSMK2',\n 'LASTSMK2',\n 'USENOW3',\n 'ALCDAY5',\n 'AVEDRNK2',\n 'DRNK3GE5',\n 'MAXDRNKS',\n 'FRUITJU1',\n 'FRUIT1',\n 'FVBEANS',\n 'FVGREEN',\n 'FVORANG',\n 'VEGETAB1',\n 'EXERANY2',\n 'EXRACT11',\n 'EXEROFT1',\n 'EXERHMM1',\n 'EXRACT21',\n 'EXEROFT2',\n 'EXERHMM2',\n 'STRENGTH',\n 'LMTJOIN3',\n 'ARTHDIS2',\n 'ARTHSOCL',\n 'JOINPAIN',\n 'SEATBELT',\n 'FLUSHOT6',\n 'FLSHTMY2',\n 'IMFVPLAC',\n 'PNEUVAC3',\n 'HIVTST6',\n 'HIVTSTD3',\n 'WHRTST10',\n 'PDIABTST',\n 'PREDIAB1',\n 'INSULIN',\n 'BLDSUGAR',\n 'FEETCHK2',\n 'DOCTDIAB',\n 'CHKHEMO3',\n 'FEETCHK',\n 'EYEEXAM',\n 'DIABEYE',\n 'DIABEDU',\n 'CAREGIV1',\n 'CRGVREL1',\n 'CRGVLNG1',\n 'CRGVHRS1',\n 'CRGVPRB1',\n 'CRGVPERS',\n 'CRGVHOUS',\n 'CRGVMST2',\n 'CRGVEXPT',\n 'VIDFCLT2',\n 'VIREDIF3',\n 'VIPRFVS2',\n 'VINOCRE2',\n 'VIEYEXM2',\n 'VIINSUR2',\n 'VICTRCT4',\n 'VIGLUMA2',\n 'VIMACDG2',\n 'CIMEMLOS',\n 'CDHOUSE',\n 'CDASSIST',\n 'CDHELP',\n 'CDSOCIAL',\n 'CDDISCUS',\n 'WTCHSALT',\n 'LONGWTCH',\n 'DRADVISE',\n 'ASTHMAGE',\n 'ASATTACK',\n 'ASERVIST',\n 'ASDRVIST',\n 'ASRCHKUP',\n 'ASACTLIM',\n 'ASYMPTOM',\n 'ASNOSLEP',\n 'ASTHMED3',\n 'ASINHALR',\n 'HAREHAB1',\n 'STREHAB1',\n 'CVDASPRN',\n 'ASPUNSAF',\n 'RLIVPAIN',\n 'RDUCHART',\n 'RDUCSTRK',\n 'ARTTODAY',\n 'ARTHWGT',\n 'ARTHEXER',\n 'ARTHEDU',\n 'TETANUS',\n 'HPVADVC2',\n 'HPVADSHT',\n 'SHINGLE2',\n 'HADMAM',\n 'HOWLONG',\n 'HADPAP2',\n 'LASTPAP2',\n 'HPVTEST',\n 'HPLSTTST',\n 'HADHYST2',\n 'PROFEXAM',\n 'LENGEXAM',\n 'BLDSTOOL',\n 'LSTBLDS3',\n 'HADSIGM3',\n 'HADSGCO1',\n 'LASTSIG3',\n 'PCPSAAD2',\n 'PCPSADI1',\n 'PCPSARE1',\n 'PSATEST1',\n 'PSATIME',\n 'PCPSARS1',\n 'PCPSADE1',\n 'PCDMDECN',\n 'SCNTMNY1',\n 'SCNTMEL1',\n 'SCNTPAID',\n 'SCNTWRK1',\n 'SCNTLPAD',\n 'SCNTLWK1',\n 'SXORIENT',\n 'TRNSGNDR',\n 'RCSGENDR',\n 'RCSRLTN2',\n 'CASTHDX2',\n 'CASTHNO2',\n 'EMTSUPRT',\n 'LSATISFY',\n 'ADPLEASR',\n 'ADDOWN',\n 'ADSLEEP',\n 'ADENERGY',\n 'ADEAT1',\n 'ADFAIL',\n 'ADTHINK',\n 'ADMOVE',\n 'MISTMNT',\n 'ADANXEV',\n 'QSTVER',\n 'QSTLANG',\n 'MSCODE',\n '_STSTR',\n '_STRWT',\n '_RAWRAKE',\n '_WT2RAKE',\n '_CHISPNC',\n '_CRACE1',\n '_CPRACE',\n '_CLLCPWT',\n '_DUALUSE',\n '_DUALCOR',\n '_LLCPWT',\n '_RFHLTH',\n '_HCVU651',\n '_RFHYPE5',\n '_CHOLCHK',\n '_RFCHOL',\n '_LTASTH1',\n '_CASTHM1',\n '_ASTHMS1',\n '_DRDXAR1',\n '_PRACE1',\n '_MRACE1',\n '_HISPANC',\n '_RACE',\n '_RACEG21',\n '_RACEGR3',\n '_RACE_G1',\n '_AGEG5YR',\n '_AGE65YR',\n '_AGE80',\n '_AGE_G',\n 'HTIN4',\n 'HTM4',\n 'WTKG3',\n '_BMI5',\n '_BMI5CAT',\n '_RFBMI5',\n '_CHLDCNT',\n '_EDUCAG',\n '_INCOMG',\n '_SMOKER3',\n '_RFSMOK3',\n 'DRNKANY5',\n 'DROCDY3_',\n '_RFBING5',\n '_DRNKWEK',\n '_RFDRHV5',\n 'FTJUDA1_',\n 'FRUTDA1_',\n 'BEANDAY_',\n 'GRENDAY_',\n 'ORNGDAY_',\n 'VEGEDA1_',\n '_MISFRTN',\n '_MISVEGN',\n '_FRTRESP',\n '_VEGRESP',\n '_FRUTSUM',\n '_VEGESUM',\n '_FRTLT1',\n '_VEGLT1',\n '_FRT16',\n '_VEG23',\n '_FRUITEX',\n '_VEGETEX',\n '_TOTINDA',\n 'METVL11_',\n 'METVL21_',\n 'MAXVO2_',\n 'FC60_',\n 'ACTIN11_',\n 'ACTIN21_',\n 'PADUR1_',\n 'PADUR2_',\n 'PAFREQ1_',\n 'PAFREQ2_',\n '_MINAC11',\n '_MINAC21',\n 'STRFREQ_',\n 'PAMISS1_',\n 'PAMIN11_',\n 'PAMIN21_',\n 'PA1MIN_',\n 'PAVIG11_',\n 'PAVIG21_',\n 'PA1VIGM_',\n '_PACAT1',\n '_PAINDX1',\n '_PA150R2',\n '_PA300R2',\n '_PA30021',\n '_PASTRNG',\n '_PAREC1',\n '_PASTAE1',\n '_LMTACT1',\n '_LMTWRK1',\n '_LMTSCL1',\n '_RFSEAT2',\n '_RFSEAT3',\n '_FLSHOT6',\n '_PNEUMO2',\n '_AIDTST3']"
     },
     "execution_count": 4,
     "metadata": {},
     "output_type": "execute_result"
    }
   ],
   "source": [
    "feature_names = df_x_train.columns.values.tolist()\n",
    "feature_names"
   ],
   "metadata": {
    "collapsed": false,
    "ExecuteTime": {
     "end_time": "2023-10-13T11:44:03.191835Z",
     "start_time": "2023-10-13T11:44:03.188903Z"
    }
   },
   "id": "c2a7c39bc8007ce0"
  },
  {
   "cell_type": "code",
   "execution_count": 6,
   "outputs": [
    {
     "data": {
      "text/plain": "        _STATE  FMONTH     IDATE  IMONTH  IDAY  IYEAR  DISPCODE       SEQNO  \\\n0           53      11  11162015      11    16   2015      1100  2015015629   \n1           33      12  12152015      12    15   2015      1200  2015004387   \n2           20      10  10202015      10    20   2015      1100  2015005638   \n3           42       6   6182015       6    18   2015      1100  2015004694   \n4           24      11  11062015      11     6   2015      1100  2015004673   \n...        ...     ...       ...     ...   ...    ...       ...         ...   \n328130      49       7  11232015      11    23   2015      1100  2015006796   \n328131      51       5   6082015       6     8   2015      1100  2015006482   \n328132      39      10  10202015      10    20   2015      1100  2015004898   \n328133      33      12  12302015      12    30   2015      1100  2015004449   \n328134      32       9   9122015       9    12   2015      1100  2015001176   \n\n              _PSU  CTELENUM  ...  _PAREC1  _PASTAE1  _LMTACT1  _LMTWRK1  \\\n0       2015015629       NaN  ...        1         1       3.0       3.0   \n1       2015004387       1.0  ...        9         9       3.0       3.0   \n2       2015005638       1.0  ...        4         2       2.0       2.0   \n3       2015004694       NaN  ...        2         2       2.0       2.0   \n4       2015004673       1.0  ...        9         9       3.0       3.0   \n...            ...       ...  ...      ...       ...       ...       ...   \n328130  2015006796       NaN  ...        2         2       3.0       3.0   \n328131  2015006482       NaN  ...        1         1       3.0       3.0   \n328132  2015004898       1.0  ...        3         2       3.0       3.0   \n328133  2015004449       1.0  ...        3         2       3.0       3.0   \n328134  2015001176       1.0  ...        9         9       2.0       2.0   \n\n        _LMTSCL1  _RFSEAT2  _RFSEAT3  _FLSHOT6  _PNEUMO2  _AIDTST3  \n0            4.0         1         1       NaN       NaN       2.0  \n1            4.0         9         9       NaN       NaN       NaN  \n2            3.0         1         1       1.0       2.0       2.0  \n3            3.0         1         1       2.0       2.0       2.0  \n4            4.0         1         1       9.0       9.0       2.0  \n...          ...       ...       ...       ...       ...       ...  \n328130       4.0         1         1       NaN       NaN       2.0  \n328131       4.0         1         1       NaN       NaN       1.0  \n328132       4.0         1         2       2.0       2.0       2.0  \n328133       4.0         1         1       NaN       NaN       2.0  \n328134       3.0         1         1       NaN       NaN       2.0  \n\n[328135 rows x 321 columns]",
      "text/html": "<div>\n<style scoped>\n    .dataframe tbody tr th:only-of-type {\n        vertical-align: middle;\n    }\n\n    .dataframe tbody tr th {\n        vertical-align: top;\n    }\n\n    .dataframe thead th {\n        text-align: right;\n    }\n</style>\n<table border=\"1\" class=\"dataframe\">\n  <thead>\n    <tr style=\"text-align: right;\">\n      <th></th>\n      <th>_STATE</th>\n      <th>FMONTH</th>\n      <th>IDATE</th>\n      <th>IMONTH</th>\n      <th>IDAY</th>\n      <th>IYEAR</th>\n      <th>DISPCODE</th>\n      <th>SEQNO</th>\n      <th>_PSU</th>\n      <th>CTELENUM</th>\n      <th>...</th>\n      <th>_PAREC1</th>\n      <th>_PASTAE1</th>\n      <th>_LMTACT1</th>\n      <th>_LMTWRK1</th>\n      <th>_LMTSCL1</th>\n      <th>_RFSEAT2</th>\n      <th>_RFSEAT3</th>\n      <th>_FLSHOT6</th>\n      <th>_PNEUMO2</th>\n      <th>_AIDTST3</th>\n    </tr>\n  </thead>\n  <tbody>\n    <tr>\n      <th>0</th>\n      <td>53</td>\n      <td>11</td>\n      <td>11162015</td>\n      <td>11</td>\n      <td>16</td>\n      <td>2015</td>\n      <td>1100</td>\n      <td>2015015629</td>\n      <td>2015015629</td>\n      <td>NaN</td>\n      <td>...</td>\n      <td>1</td>\n      <td>1</td>\n      <td>3.0</td>\n      <td>3.0</td>\n      <td>4.0</td>\n      <td>1</td>\n      <td>1</td>\n      <td>NaN</td>\n      <td>NaN</td>\n      <td>2.0</td>\n    </tr>\n    <tr>\n      <th>1</th>\n      <td>33</td>\n      <td>12</td>\n      <td>12152015</td>\n      <td>12</td>\n      <td>15</td>\n      <td>2015</td>\n      <td>1200</td>\n      <td>2015004387</td>\n      <td>2015004387</td>\n      <td>1.0</td>\n      <td>...</td>\n      <td>9</td>\n      <td>9</td>\n      <td>3.0</td>\n      <td>3.0</td>\n      <td>4.0</td>\n      <td>9</td>\n      <td>9</td>\n      <td>NaN</td>\n      <td>NaN</td>\n      <td>NaN</td>\n    </tr>\n    <tr>\n      <th>2</th>\n      <td>20</td>\n      <td>10</td>\n      <td>10202015</td>\n      <td>10</td>\n      <td>20</td>\n      <td>2015</td>\n      <td>1100</td>\n      <td>2015005638</td>\n      <td>2015005638</td>\n      <td>1.0</td>\n      <td>...</td>\n      <td>4</td>\n      <td>2</td>\n      <td>2.0</td>\n      <td>2.0</td>\n      <td>3.0</td>\n      <td>1</td>\n      <td>1</td>\n      <td>1.0</td>\n      <td>2.0</td>\n      <td>2.0</td>\n    </tr>\n    <tr>\n      <th>3</th>\n      <td>42</td>\n      <td>6</td>\n      <td>6182015</td>\n      <td>6</td>\n      <td>18</td>\n      <td>2015</td>\n      <td>1100</td>\n      <td>2015004694</td>\n      <td>2015004694</td>\n      <td>NaN</td>\n      <td>...</td>\n      <td>2</td>\n      <td>2</td>\n      <td>2.0</td>\n      <td>2.0</td>\n      <td>3.0</td>\n      <td>1</td>\n      <td>1</td>\n      <td>2.0</td>\n      <td>2.0</td>\n      <td>2.0</td>\n    </tr>\n    <tr>\n      <th>4</th>\n      <td>24</td>\n      <td>11</td>\n      <td>11062015</td>\n      <td>11</td>\n      <td>6</td>\n      <td>2015</td>\n      <td>1100</td>\n      <td>2015004673</td>\n      <td>2015004673</td>\n      <td>1.0</td>\n      <td>...</td>\n      <td>9</td>\n      <td>9</td>\n      <td>3.0</td>\n      <td>3.0</td>\n      <td>4.0</td>\n      <td>1</td>\n      <td>1</td>\n      <td>9.0</td>\n      <td>9.0</td>\n      <td>2.0</td>\n    </tr>\n    <tr>\n      <th>...</th>\n      <td>...</td>\n      <td>...</td>\n      <td>...</td>\n      <td>...</td>\n      <td>...</td>\n      <td>...</td>\n      <td>...</td>\n      <td>...</td>\n      <td>...</td>\n      <td>...</td>\n      <td>...</td>\n      <td>...</td>\n      <td>...</td>\n      <td>...</td>\n      <td>...</td>\n      <td>...</td>\n      <td>...</td>\n      <td>...</td>\n      <td>...</td>\n      <td>...</td>\n      <td>...</td>\n    </tr>\n    <tr>\n      <th>328130</th>\n      <td>49</td>\n      <td>7</td>\n      <td>11232015</td>\n      <td>11</td>\n      <td>23</td>\n      <td>2015</td>\n      <td>1100</td>\n      <td>2015006796</td>\n      <td>2015006796</td>\n      <td>NaN</td>\n      <td>...</td>\n      <td>2</td>\n      <td>2</td>\n      <td>3.0</td>\n      <td>3.0</td>\n      <td>4.0</td>\n      <td>1</td>\n      <td>1</td>\n      <td>NaN</td>\n      <td>NaN</td>\n      <td>2.0</td>\n    </tr>\n    <tr>\n      <th>328131</th>\n      <td>51</td>\n      <td>5</td>\n      <td>6082015</td>\n      <td>6</td>\n      <td>8</td>\n      <td>2015</td>\n      <td>1100</td>\n      <td>2015006482</td>\n      <td>2015006482</td>\n      <td>NaN</td>\n      <td>...</td>\n      <td>1</td>\n      <td>1</td>\n      <td>3.0</td>\n      <td>3.0</td>\n      <td>4.0</td>\n      <td>1</td>\n      <td>1</td>\n      <td>NaN</td>\n      <td>NaN</td>\n      <td>1.0</td>\n    </tr>\n    <tr>\n      <th>328132</th>\n      <td>39</td>\n      <td>10</td>\n      <td>10202015</td>\n      <td>10</td>\n      <td>20</td>\n      <td>2015</td>\n      <td>1100</td>\n      <td>2015004898</td>\n      <td>2015004898</td>\n      <td>1.0</td>\n      <td>...</td>\n      <td>3</td>\n      <td>2</td>\n      <td>3.0</td>\n      <td>3.0</td>\n      <td>4.0</td>\n      <td>1</td>\n      <td>2</td>\n      <td>2.0</td>\n      <td>2.0</td>\n      <td>2.0</td>\n    </tr>\n    <tr>\n      <th>328133</th>\n      <td>33</td>\n      <td>12</td>\n      <td>12302015</td>\n      <td>12</td>\n      <td>30</td>\n      <td>2015</td>\n      <td>1100</td>\n      <td>2015004449</td>\n      <td>2015004449</td>\n      <td>1.0</td>\n      <td>...</td>\n      <td>3</td>\n      <td>2</td>\n      <td>3.0</td>\n      <td>3.0</td>\n      <td>4.0</td>\n      <td>1</td>\n      <td>1</td>\n      <td>NaN</td>\n      <td>NaN</td>\n      <td>2.0</td>\n    </tr>\n    <tr>\n      <th>328134</th>\n      <td>32</td>\n      <td>9</td>\n      <td>9122015</td>\n      <td>9</td>\n      <td>12</td>\n      <td>2015</td>\n      <td>1100</td>\n      <td>2015001176</td>\n      <td>2015001176</td>\n      <td>1.0</td>\n      <td>...</td>\n      <td>9</td>\n      <td>9</td>\n      <td>2.0</td>\n      <td>2.0</td>\n      <td>3.0</td>\n      <td>1</td>\n      <td>1</td>\n      <td>NaN</td>\n      <td>NaN</td>\n      <td>2.0</td>\n    </tr>\n  </tbody>\n</table>\n<p>328135 rows × 321 columns</p>\n</div>"
     },
     "execution_count": 6,
     "metadata": {},
     "output_type": "execute_result"
    }
   ],
   "source": [
    "df_x_train"
   ],
   "metadata": {
    "collapsed": false,
    "ExecuteTime": {
     "end_time": "2023-10-13T11:44:14.840966Z",
     "start_time": "2023-10-13T11:44:14.815206Z"
    }
   },
   "id": "4083252eaa71c8d5"
  },
  {
   "cell_type": "code",
   "execution_count": 9,
   "outputs": [],
   "source": [
    "selected_features = ['BPMEDS',\n",
    " '_RFHYPE5',\n",
    " 'EMPLOY1',\n",
    " 'GENHLTH',\n",
    " '_RFCHOL',\n",
    " '_AGE80',\n",
    " 'SEX',\n",
    " 'CVDSTRK3',\n",
    " 'DIFFWALK',\n",
    " 'MAXVO2_',\n",
    " 'CHCCOPD1',\n",
    " 'PNEUVAC3',\n",
    " 'QLACTLM2',\n",
    " 'HAREHAB1',\n",
    " 'TOLDHI2',\n",
    " 'SMOKE100',\n",
    " 'CHOLCHK',\n",
    " 'CHCKIDNY',\n",
    " 'CVDASPRN',\n",
    " 'DIABETE3',\n",
    " 'ASPUNSAF',\n",
    " '_SMOKER3',\n",
    " '_DRDXAR1',\n",
    " '_RFSEAT2',\n",
    " 'VIPRFVS2',\n",
    " 'USEEQUIP',\n",
    " 'INTERNET',\n",
    " 'DRADVISE',\n",
    " 'PERSDOC2',\n",
    " 'BPHIGH4']"
   ],
   "metadata": {
    "collapsed": false,
    "ExecuteTime": {
     "end_time": "2023-10-13T11:50:30.202209Z",
     "start_time": "2023-10-13T11:50:30.198549Z"
    }
   },
   "id": "83e59166a6943bcf"
  },
  {
   "cell_type": "code",
   "execution_count": 20,
   "outputs": [
    {
     "data": {
      "text/plain": "0.5420560747663551"
     },
     "execution_count": 20,
     "metadata": {},
     "output_type": "execute_result"
    }
   ],
   "source": [
    "sum(df_x_train.isna().mean() * 100 < 50) / 321"
   ],
   "metadata": {
    "collapsed": false,
    "ExecuteTime": {
     "end_time": "2023-10-13T11:57:14.264702Z",
     "start_time": "2023-10-13T11:57:14.195424Z"
    }
   },
   "id": "e8722121e178c1bf"
  },
  {
   "cell_type": "code",
   "execution_count": 21,
   "outputs": [
    {
     "data": {
      "text/plain": "328135"
     },
     "execution_count": 21,
     "metadata": {},
     "output_type": "execute_result"
    }
   ],
   "source": [
    "len(df_x_train) "
   ],
   "metadata": {
    "collapsed": false,
    "ExecuteTime": {
     "end_time": "2023-10-13T11:57:20.873180Z",
     "start_time": "2023-10-13T11:57:20.859832Z"
    }
   },
   "id": "750e96d91b1113f5"
  },
  {
   "cell_type": "code",
   "execution_count": null,
   "outputs": [],
   "source": [],
   "metadata": {
    "collapsed": false
   },
   "id": "fd52a88a939d76ae"
  }
 ],
 "metadata": {
  "kernelspec": {
   "display_name": "Python 3",
   "language": "python",
   "name": "python3"
  },
  "language_info": {
   "codemirror_mode": {
    "name": "ipython",
    "version": 2
   },
   "file_extension": ".py",
   "mimetype": "text/x-python",
   "name": "python",
   "nbconvert_exporter": "python",
   "pygments_lexer": "ipython2",
   "version": "2.7.6"
  }
 },
 "nbformat": 4,
 "nbformat_minor": 5
}
